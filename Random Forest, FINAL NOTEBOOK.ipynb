{
 "cells": [
  {
   "cell_type": "code",
   "execution_count": 1,
   "metadata": {},
   "outputs": [],
   "source": [
    "# Load the library with the iris dataset\n",
    "from sklearn.datasets import load_iris\n",
    "\n",
    "# Load scikit's random forest classifier library\n",
    "from sklearn.ensemble import RandomForestClassifier\n",
    "\n",
    "# Load pandas\n",
    "import pandas as pd\n",
    "\n",
    "# Load numpy\n",
    "import numpy as np\n",
    "\n",
    "# Set random seed\n",
    "np.random.seed(0)"
   ]
  },
  {
   "cell_type": "code",
   "execution_count": 2,
   "metadata": {},
   "outputs": [],
   "source": [
    "# Create an object called iris with the iris data\n",
    "#iris = load_iris()\n",
    "\n",
    "# Create a dataframe with the four feature variables\n",
    "df10 = pd.read_csv(\"Source_2010_woPASC_csv.csv\", sep=',', header=0, parse_dates=[0])\n",
    "df12 = pd.read_csv(\"Source_2012_woCHER_csv.csv\", sep=',', header=0, parse_dates=[0])\n",
    "df14 = pd.read_csv(\"Source_2014_woCHER_csv.csv\", sep=',', header=0, parse_dates=[0])\n",
    "\n",
    "df1012 = pd.read_csv(\"2010-2012_combined.csv\",sep=',', header=0, parse_dates=[0])\n",
    "# View the top 5 rows\n",
    "#df12\n",
    "\n",
    "\n"
   ]
  },
  {
   "cell_type": "code",
   "execution_count": 3,
   "metadata": {},
   "outputs": [],
   "source": [
    "#THIS CREATES A NEW GROUPING\n",
    "\n",
    "groups = []\n",
    "\n",
    "rate1012 = df1012.iloc[:,4]\n",
    "#df.loc[row_indexer,column_indexer]\n",
    "\n",
    "for ar in rate1012:\n",
    "    if ar >= 0 and ar < 5.848:\n",
    "        groups.append(1)\n",
    "    if ar >=5.848 and ar <11.697:\n",
    "        groups.append(2)\n",
    "    if ar >= 11.697 and ar <17.545:\n",
    "        groups.append(3)\n",
    "    if ar >= 17.545 and ar < 23.393:\n",
    "        groups.append(4)\n",
    "    if ar >= 23.393 and ar < 29.242:\n",
    "        groups.append(5)\n",
    "    if ar >= 29.242 and ar <= 35.090: \n",
    "        groups.append(6)\n",
    "df1012[\"groups\"] = groups\n",
    "\n",
    "\n",
    "groups = [] \n",
    "rate14 = df14.iloc[:,4]\n",
    "for ar in rate14:\n",
    "    if ar >= 0 and ar < 5.848:\n",
    "        groups.append(1)\n",
    "    if ar >=5.848 and ar <11.697:\n",
    "        groups.append(2)\n",
    "    if ar >= 11.697 and ar <17.545:\n",
    "        groups.append(3)\n",
    "    if ar >= 17.545 and ar < 23.393:\n",
    "        groups.append(4)\n",
    "    if ar >= 23.393 and ar < 29.242:\n",
    "        groups.append(5)\n",
    "    if ar >= 29.242 and ar <= 35.090: \n",
    "        groups.append(6)\n",
    "df14[\"groups\"] = groups\n",
    "\n"
   ]
  },
  {
   "cell_type": "code",
   "execution_count": 4,
   "metadata": {
    "scrolled": true
   },
   "outputs": [],
   "source": [
    "# Create a new column that for each row, generates a random number between 0 and 1, and\n",
    "# if that value is less than or equal to .75, then sets the value of that cell as True\n",
    "# and false otherwise. This is a quick and dirty way of randomly assigning some rows to\n",
    "# be used as the training data and some as the test data.\n",
    "#df['is_train'] = np.random.uniform(0, 1, len(df)) <= .75\n",
    "\n",
    "# View the top 5 rows\n",
    "#df.head()"
   ]
  },
  {
   "cell_type": "code",
   "execution_count": 5,
   "metadata": {},
   "outputs": [],
   "source": [
    "# Create two new dataframes, one with the training rows, one with the test rows\n",
    "# train, test = df[df['is_train']==True], df[df['is_train']==False]\n",
    "train, test = df1012, df14"
   ]
  },
  {
   "cell_type": "code",
   "execution_count": 6,
   "metadata": {},
   "outputs": [
    {
     "name": "stdout",
     "output_type": "stream",
     "text": [
      "Number of observations in the training data: 228\n",
      "Number of observations in the test data: 114\n"
     ]
    }
   ],
   "source": [
    "# Show the number of observations for the test and training dataframes\n",
    "print('Number of observations in the training data:', len(train))\n",
    "print('Number of observations in the test data:',len(test))"
   ]
  },
  {
   "cell_type": "code",
   "execution_count": 7,
   "metadata": {},
   "outputs": [
    {
     "name": "stdout",
     "output_type": "stream",
     "text": [
      "['Needy Perc', 'S:T Ratio', 'Acts per 1000 students', 'Black Perc']\n"
     ]
    }
   ],
   "source": [
    "# Create a list of the feature column's names\n",
    "\n",
    "#features = df.columns[8:10]\n",
    "features = ['Needy Perc','S:T Ratio','Acts per 1000 students','Black Perc']\n",
    "#'Urban centric local number', 'Dropout Rate'\n",
    "#''Urban centric local number'] 'S:T Ratio',\n",
    "\n",
    "\n",
    "\n",
    "# View features\n",
    "print(features)\n"
   ]
  },
  {
   "cell_type": "code",
   "execution_count": 8,
   "metadata": {},
   "outputs": [],
   "source": [
    "# train['species'] contains the actual species names. Before we can use it,\n",
    "# we need to convert each species name into a digit. So, in this case there\n",
    "# are three species, which have been coded as 0, 1, or 2.\n",
    "#pd.factorize(train['Urban-centric Locale Num']\n",
    "        \n",
    "\n",
    "nums = pd.factorize(train['groups'])\n",
    "y = nums[0]\n",
    "# View target\n",
    "#y = pd.train['Urban-centric Locale Num']\n",
    "\n",
    "train['groups']\n",
    " \n",
    "k = train['groups']\n"
   ]
  },
  {
   "cell_type": "code",
   "execution_count": 9,
   "metadata": {},
   "outputs": [
    {
     "name": "stderr",
     "output_type": "stream",
     "text": [
      "/home/vcm/.local/lib/python3.5/site-packages/sklearn/ensemble/forest.py:246: FutureWarning: The default value of n_estimators will change from 10 in version 0.20 to 100 in 0.22.\n",
      "  \"10 in version 0.20 to 100 in 0.22.\", FutureWarning)\n"
     ]
    },
    {
     "data": {
      "text/plain": [
       "RandomForestClassifier(bootstrap=True, class_weight=None, criterion='gini',\n",
       "            max_depth=None, max_features='auto', max_leaf_nodes=None,\n",
       "            min_impurity_decrease=0.0, min_impurity_split=None,\n",
       "            min_samples_leaf=1, min_samples_split=2,\n",
       "            min_weight_fraction_leaf=0.0, n_estimators=10, n_jobs=2,\n",
       "            oob_score=False, random_state=0, verbose=0, warm_start=False)"
      ]
     },
     "execution_count": 9,
     "metadata": {},
     "output_type": "execute_result"
    }
   ],
   "source": [
    "# Create a random forest Classifier. By convention, clf means 'Classifier'\n",
    "clf = RandomForestClassifier(n_jobs=2, random_state=0)\n",
    "\n",
    "# Train the Classifier to take the training features and learn how they relate\n",
    "# to the training y (the species)\n",
    "clf.fit(train[features], k)"
   ]
  },
  {
   "cell_type": "code",
   "execution_count": 10,
   "metadata": {},
   "outputs": [
    {
     "data": {
      "text/plain": [
       "array([2, 2, 2, 4, 2, 3, 1, 3, 3, 3, 3, 2, 3, 2, 2, 2, 2, 2, 3, 2, 2, 3,\n",
       "       2, 2, 2, 4, 2, 3, 3, 3, 2, 2, 2, 3, 4, 2, 3, 2, 4, 2, 4, 2, 2, 4,\n",
       "       2, 6, 3, 4, 3, 2, 3, 2, 4, 2, 4, 2, 4, 3, 2, 4, 3, 2, 2, 3, 2, 3,\n",
       "       2, 2, 3, 3, 3, 2, 4, 1, 2, 4, 3, 3, 3, 3, 3, 2, 3, 3, 2, 3, 2, 4,\n",
       "       2, 3, 3, 3, 3, 2, 3, 2, 2, 2, 2, 2, 3, 3, 4, 2, 3, 3, 2, 3, 3, 2,\n",
       "       2, 3, 2, 2])"
      ]
     },
     "execution_count": 10,
     "metadata": {},
     "output_type": "execute_result"
    }
   ],
   "source": [
    "# Apply the Classifier we trained to the test data (which, remember, it has never seen before)\n",
    "clf.predict(test[features])"
   ]
  },
  {
   "cell_type": "code",
   "execution_count": 11,
   "metadata": {
    "scrolled": true
   },
   "outputs": [
    {
     "data": {
      "text/plain": [
       "array([[0.2, 0.4, 0.4, 0. , 0. , 0. ],\n",
       "       [0. , 0.8, 0.1, 0.1, 0. , 0. ],\n",
       "       [0. , 1. , 0. , 0. , 0. , 0. ],\n",
       "       [0.1, 0. , 0.4, 0.5, 0. , 0. ],\n",
       "       [0. , 0.5, 0.5, 0. , 0. , 0. ],\n",
       "       [0. , 0. , 0.6, 0.3, 0.1, 0. ],\n",
       "       [0.6, 0.1, 0.3, 0. , 0. , 0. ],\n",
       "       [0. , 0.2, 0.7, 0.1, 0. , 0. ],\n",
       "       [0. , 0.3, 0.6, 0.1, 0. , 0. ],\n",
       "       [0. , 0.2, 0.7, 0. , 0.1, 0. ]])"
      ]
     },
     "execution_count": 11,
     "metadata": {},
     "output_type": "execute_result"
    }
   ],
   "source": [
    "# View the predicted probabilities of the first 10 observations\n",
    "clf.predict_proba(test[features])[0:10]"
   ]
  },
  {
   "cell_type": "code",
   "execution_count": 12,
   "metadata": {},
   "outputs": [],
   "source": [
    "# Create actual english names for the plants for each predicted plant class\n",
    "preds = clf.predict(test[features])\n",
    "\n",
    "# View the PREDICTED species for the first five observations\n",
    "#preds"
   ]
  },
  {
   "cell_type": "code",
   "execution_count": 13,
   "metadata": {},
   "outputs": [],
   "source": [
    "# View the ACTUAL species for the first five observations\n",
    "#test['groups']\n"
   ]
  },
  {
   "cell_type": "code",
   "execution_count": null,
   "metadata": {},
   "outputs": [],
   "source": []
  },
  {
   "cell_type": "code",
   "execution_count": 23,
   "metadata": {},
   "outputs": [
    {
     "data": {
      "text/plain": [
       "0      3\n",
       "1      2\n",
       "2      2\n",
       "3      3\n",
       "4      2\n",
       "5      3\n",
       "6      3\n",
       "7      2\n",
       "8      3\n",
       "9      6\n",
       "10     4\n",
       "11     3\n",
       "12     3\n",
       "13     2\n",
       "14     3\n",
       "15     2\n",
       "16     2\n",
       "17     3\n",
       "18     3\n",
       "19     3\n",
       "20     4\n",
       "21     3\n",
       "22     3\n",
       "23     2\n",
       "24     3\n",
       "25     3\n",
       "26     3\n",
       "27     4\n",
       "28     4\n",
       "29     3\n",
       "      ..\n",
       "84     2\n",
       "85     3\n",
       "86     4\n",
       "87     3\n",
       "88     3\n",
       "89     2\n",
       "90     3\n",
       "91     2\n",
       "92     2\n",
       "93     4\n",
       "94     3\n",
       "95     3\n",
       "96     2\n",
       "97     2\n",
       "98     4\n",
       "99     3\n",
       "100    2\n",
       "101    3\n",
       "102    4\n",
       "103    3\n",
       "104    6\n",
       "105    6\n",
       "106    3\n",
       "107    2\n",
       "108    4\n",
       "109    2\n",
       "110    2\n",
       "111    3\n",
       "112    2\n",
       "113    2\n",
       "Name: groups, Length: 114, dtype: int64"
      ]
     },
     "execution_count": 23,
     "metadata": {},
     "output_type": "execute_result"
    }
   ],
   "source": [
    "# Create confusion matrix\n",
    "real = test['groups'] \n",
    "pd.crosstab(real, preds, rownames=['Actual'], colnames=['Predicted'])\n",
    "\n",
    "test['groups']"
   ]
  },
  {
   "cell_type": "code",
   "execution_count": 15,
   "metadata": {},
   "outputs": [
    {
     "data": {
      "text/plain": [
       "[('Needy Perc', 0.2519774516814568),\n",
       " ('S:T Ratio', 0.23756368951801346),\n",
       " ('Acts per 1000 students', 0.23137882068846452),\n",
       " ('Black Perc', 0.2790800381120652)]"
      ]
     },
     "execution_count": 15,
     "metadata": {},
     "output_type": "execute_result"
    }
   ],
   "source": [
    "# View a list of the features and their importance scores\n",
    "list(zip(train[features], clf.feature_importances_))"
   ]
  },
  {
   "cell_type": "code",
   "execution_count": 16,
   "metadata": {},
   "outputs": [
    {
     "name": "stdout",
     "output_type": "stream",
     "text": [
      "52\n",
      "45.6140350877193\n"
     ]
    }
   ],
   "source": [
    "#testing group\n",
    "count = 0 \n",
    "real = test['groups']\n",
    "for index in range (0, len(real)):\n",
    "    if(real[index]==preds[index]):\n",
    "        count+=1\n",
    "acc = count * 100/ len(real)\n"
   ]
  },
  {
   "cell_type": "code",
   "execution_count": 17,
   "metadata": {},
   "outputs": [],
   "source": [
    "counting = 0 \n",
    "numOne = 0\n",
    "oneCorr = 0\n",
    "numTwo = 0\n",
    "twoCorr = 0\n",
    "numThree = 0\n",
    "threeCorr = 0\n",
    "numFour = 0\n",
    "fourCorr = 0\n",
    "numFive = 0\n",
    "fiveCorr = 0\n",
    "numSix = 0\n",
    "sixCorr = 0\n",
    "numSev = 0\n",
    "sevCorr = 0\n",
    "\n",
    "for index in range (0, len(real)):\n",
    "    if real[index] == 1: \n",
    "        numOne+=1\n",
    "        if preds[index] == 1:\n",
    "            oneCorr+=1\n",
    "    if real[index] == 2:\n",
    "        numTwo+=1\n",
    "        if preds[index] == 2:\n",
    "            twoCorr +=1\n",
    "    if real[index] == 3:\n",
    "        numThree +=1\n",
    "        if preds[index] == 3:\n",
    "            threeCorr +=1\n",
    "    if real[index] == 4:\n",
    "        numFour += 1\n",
    "        if preds[index] == 4:\n",
    "            fourCorr +=1\n",
    "    if real[index] == 5:\n",
    "        numFive +=1\n",
    "        if preds[index] == 5:\n",
    "            fiveCorr +=1\n",
    "    if real[index] == 6:\n",
    "        numSix +=1\n",
    "        if preds[index] == 6:\n",
    "            sixCorr +=1 \n",
    "    if real[index] == 7:\n",
    "        numSev+=1\n",
    "        if preds[index] == 7:\n",
    "            sevCorr +=1\n",
    "    \n"
   ]
  },
  {
   "cell_type": "code",
   "execution_count": 18,
   "metadata": {},
   "outputs": [],
   "source": [
    "acc1 = oneCorr * 100/numOne\n",
    "acc2 = twoCorr * 100/numTwo\n",
    "acc3 = threeCorr * 100/numThree\n",
    "acc4 = fourCorr *100/numFour\n",
    "acc5 = fiveCorr * 100/numFive\n",
    "acc6 = sixCorr * 100/numSix\n"
   ]
  },
  {
   "cell_type": "code",
   "execution_count": 19,
   "metadata": {},
   "outputs": [
    {
     "data": {
      "text/plain": [
       "{'Group 1': 0.0,\n",
       " 'Group 2': 73.33333333333333,\n",
       " 'Group 3': 47.05882352941177,\n",
       " 'Group 4': 25.0,\n",
       " 'Group 5': 0.0,\n",
       " 'Group 6': 0.0,\n",
       " 'Overall': 45.6140350877193}"
      ]
     },
     "execution_count": 19,
     "metadata": {},
     "output_type": "execute_result"
    }
   ],
   "source": [
    "res = {}\n",
    "res['Overall'] = acc\n",
    "res['Group 1'] = acc1\n",
    "res['Group 2'] = acc2\n",
    "res['Group 3'] = acc3\n",
    "res['Group 4'] = acc4\n",
    "res['Group 5'] = acc5\n",
    "res['Group 6'] = acc6\n",
    "\n",
    "res"
   ]
  },
  {
   "cell_type": "code",
   "execution_count": 29,
   "metadata": {},
   "outputs": [
    {
     "data": {
      "image/png": "[encoded data removed]",
      "text/plain": [
       "<Figure size 640x480 with 1 Axes>"
      ]
     },
     "metadata": {},
     "output_type": "display_data"
    }
   ],
   "source": [
    "# this creates a bar graph shign the overall accuracy rate by model\n",
    "import matplotlib.pyplot as plt; plt.rcdefaults()\n",
    "import numpy as np\n",
    "import matplotlib.pyplot as plt\n",
    "\n",
    "objects = ('Naive Bayes', 'K-NN', 'Random Forest', 'Mult. Lin. Reg.')\n",
    "y_pos = np.arange(len(objects))\n",
    "performance = [29.82,63.15,45.61,62.78,]\n",
    "\n",
    "plt.bar(y_pos, performance, color= '#439EE9',align='center', alpha=0.5)\n",
    "plt.xticks(y_pos, objects)\n",
    "plt.ylabel('Accuracy (%)')\n",
    "plt.title('Prediction Accuracies by Model')\n",
    "\n",
    "plt.show()\n",
    "#51B383\n",
    "#439EE9"
   ]
  },
  {
   "cell_type": "code",
   "execution_count": 28,
   "metadata": {},
   "outputs": [
    {
     "data": {
      "image/png": "[encoded data removed]",
      "text/plain": [
       "<Figure size 640x480 with 1 Axes>"
      ]
     },
     "metadata": {},
     "output_type": "display_data"
    }
   ],
   "source": [
    "# this creates a line graph showing the accuraccies for each classifier by group\n",
    "\n",
    "NB = [1, .83333, .1568, 0, 0, 0]\n",
    "KNN = [0,.53333,.863,.5,.0,.0]\n",
    "RF = [0, .73,.471,.25,0,0]\n",
    "\n",
    "plt.plot(range(1, 7),NB, c= '#51B383', label = \"Naive Bayes\") \n",
    "plt.plot(range(1, 7),KNN, c= '#6DF5B7', label = \"K-Nearest Neighbors\") \n",
    "plt.plot(range(1, 7),RF, c= '#347355', label = \"Random Forest\") \n",
    "plt.title(\"Prediction Accuracies by Model\")\n",
    "plt.xlabel(\"Teacher Attrition Rate by Equal Interval Groups\")\n",
    "plt.ylabel(\"Accuracy\")\n",
    "plt.axhline(0.5, color = 'black', linestyle = 'dashed')\n",
    "plt.legend(loc = 'upper right')\n",
    "plt.show()"
   ]
  },
  {
   "cell_type": "code",
   "execution_count": null,
   "metadata": {},
   "outputs": [],
   "source": []
  },
  {
   "cell_type": "code",
   "execution_count": null,
   "metadata": {},
   "outputs": [],
   "source": []
  },
  {
   "cell_type": "code",
   "execution_count": null,
   "metadata": {},
   "outputs": [],
   "source": []
  },
  {
   "cell_type": "code",
   "execution_count": null,
   "metadata": {},
   "outputs": [],
   "source": []
  },
  {
   "cell_type": "code",
   "execution_count": null,
   "metadata": {},
   "outputs": [],
   "source": []
  }
 ],
 "metadata": {
  "kernelspec": {
   "display_name": "Python 3",
   "language": "python",
   "name": "python3"
  },
  "language_info": {
   "codemirror_mode": {
    "name": "ipython",
    "version": 3
   },
   "file_extension": ".py",
   "mimetype": "text/x-python",
   "name": "python",
   "nbconvert_exporter": "python",
   "pygments_lexer": "ipython3",
   "version": "3.5.2"
  }
 },
 "nbformat": 4,
 "nbformat_minor": 2
}
