{
 "cells": [
  {
   "cell_type": "code",
   "execution_count": 1,
   "metadata": {},
   "outputs": [],
   "source": [
    "import pandas as pd\n",
    "import numpy as np\n",
    "import matplotlib.pyplot as plt\n",
    "import time\n",
    "from sklearn.model_selection import train_test_split\n",
    "from sklearn.naive_bayes import GaussianNB, BernoulliNB, MultinomialNB\n",
    "from sklearn.metrics import classification_report\n",
    "from sklearn.metrics import accuracy_score\n",
    "from sklearn.metrics import confusion_matrix\n",
    "\n",
    "#Importing dataset\n",
    "#data represents 2010 & 2012 data\n",
    "#test represents the 2014 data\n",
    "data1 = pd.read_csv(\"/home/vcm/Project-submit/Regression/2010.csv\")\n",
    "data2 = pd.read_csv(\"/home/vcm/Project-submit/Regression/2012.csv\")\n",
    "data = pd.concat([data1, data2])\n",
    "test = pd.read_csv(\"/home/vcm/Project-submit/Regression/2014.csv\")"
   ]
  },
  {
   "cell_type": "code",
   "execution_count": 2,
   "metadata": {},
   "outputs": [],
   "source": [
    "#select the columns from the dataframes that we will be working with\n",
    "data=data[[\n",
    "    \"groups\", \"Needy Perc\", \"S:T Ratio\", \"Dropout Rate\", \"Black Students\", \"Acts per 1000 students\", \"Urban centric local number\"]]\n",
    "test = test[[\n",
    "    \"groups\", \"Needy Perc\", \"S:T Ratio\", \"Dropout Rate\", \"Black Students\", \"Acts per 1000 students\", \"Urban centric local number\"]]"
   ]
  },
  {
   "cell_type": "code",
   "execution_count": 3,
   "metadata": {},
   "outputs": [],
   "source": [
    "#set 2010 & 2012 to the training data, and set 2014 to the testing data\n",
    "X_train = data\n",
    "X_test = test\n"
   ]
  },
  {
   "cell_type": "code",
   "execution_count": 4,
   "metadata": {},
   "outputs": [],
   "source": [
    "#use the built in sklearn feature to perform Gaussian Naive Bayes on the training and test data\n",
    "gnb = GaussianNB()\n",
    "used_features =[\"Needy Perc\", \"Dropout Rate\", \"Black Students\",\n",
    "    \"Acts per 1000 students\", \"Urban centric local number\"]\n",
    "gnb.fit(\n",
    "    X_train[used_features].values,\n",
    "    X_train[\"groups\"]\n",
    ")\n",
    "y_pred = gnb.predict(X_test[used_features])\n",
    "\n",
    "\n"
   ]
  },
  {
   "cell_type": "code",
   "execution_count": 5,
   "metadata": {},
   "outputs": [
    {
     "name": "stdout",
     "output_type": "stream",
     "text": [
      "Number of mislabeled points out of a total 114 points : 80, performance 29.82%\n"
     ]
    }
   ],
   "source": [
    "#calculate the overall accurracy of Gaussian Naive Bayes\n",
    "\n",
    "print(\"Number of mislabeled points out of a total {} points : {}, performance {:05.2f}%\"\n",
    "      .format(\n",
    "          X_test.shape[0],\n",
    "          (X_test[\"groups\"] != y_pred).sum(),\n",
    "          100*(1-(X_test[\"groups\"] != y_pred).sum()/X_test.shape[0])\n",
    "))"
   ]
  },
  {
   "cell_type": "code",
   "execution_count": 6,
   "metadata": {},
   "outputs": [
    {
     "name": "stdout",
     "output_type": "stream",
     "text": [
      "[[1.         0.         0.         0.         0.         0.        ]\n",
      " [0.13333333 0.83333333 0.         0.         0.03333333 0.        ]\n",
      " [0.11764706 0.66666667 0.15686275 0.         0.05882353 0.        ]\n",
      " [0.20833333 0.625      0.08333333 0.         0.08333333 0.        ]\n",
      " [0.         0.66666667 0.         0.33333333 0.         0.        ]\n",
      " [0.4        0.2        0.         0.         0.4        0.        ]]\n"
     ]
    },
    {
     "data": {
      "text/plain": [
       "array([1.        , 0.83333333, 0.15686275, 0.        , 0.        ,\n",
       "       0.        ])"
      ]
     },
     "execution_count": 6,
     "metadata": {},
     "output_type": "execute_result"
    }
   ],
   "source": [
    "#using a confusion matrix, calculate the accuracy for each teacher attrition rate grouping \n",
    "\n",
    "target_names = ['class 1', 'class 2', 'class 3', 'class 4', 'class 5', 'class 6']\n",
    "cm = confusion_matrix(X_test[\"groups\"], y_pred)\n",
    "cm = cm.astype('float') / cm.sum(axis=1)[:, np.newaxis]\n",
    "cm.diagonal()"
   ]
  },
  {
   "cell_type": "code",
   "execution_count": null,
   "metadata": {},
   "outputs": [],
   "source": []
  },
  {
   "cell_type": "code",
   "execution_count": null,
   "metadata": {},
   "outputs": [],
   "source": []
  },
  {
   "cell_type": "code",
   "execution_count": null,
   "metadata": {},
   "outputs": [],
   "source": []
  }
 ],
 "metadata": {
  "kernelspec": {
   "display_name": "Python 3",
   "language": "python",
   "name": "python3"
  },
  "language_info": {
   "codemirror_mode": {
    "name": "ipython",
    "version": 3
   },
   "file_extension": ".py",
   "mimetype": "text/x-python",
   "name": "python",
   "nbconvert_exporter": "python",
   "pygments_lexer": "ipython3",
   "version": "3.5.2"
  }
 },
 "nbformat": 4,
 "nbformat_minor": 2
}
